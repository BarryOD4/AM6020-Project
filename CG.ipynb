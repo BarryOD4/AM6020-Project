{
 "cells": [
  {
   "cell_type": "code",
   "execution_count": 6,
   "id": "5a27923f-d74a-4938-bae2-57fbc5939664",
   "metadata": {},
   "outputs": [],
   "source": [
    "import numpy as np\n",
    "import matplotlib.pyplot as plt"
   ]
  },
  {
   "cell_type": "code",
   "execution_count": 7,
   "id": "81b40bc2-5ad2-4bc7-93d6-c5aaac73b6a0",
   "metadata": {},
   "outputs": [],
   "source": [
    "## '@' is overloaded to do the same as np.matmul()\n",
    "##  ie.\n",
    "\n",
    "def alph(r, p, A):\n",
    "    \n",
    "    top = r.T @ r\n",
    "    bottom = p.T @ A @ p\n",
    "    \n",
    "    return top/bottom\n",
    "\n",
    "def bet(rk, rkp1):\n",
    "    \n",
    "    top = rkp1.T @ rkp1\n",
    "    bottom = rk.T @ rk\n",
    "    \n",
    "    return top/bottom"
   ]
  },
  {
   "cell_type": "code",
   "execution_count": 8,
   "id": "2b51f272-4803-4df9-82a2-c84fd9f26f91",
   "metadata": {},
   "outputs": [],
   "source": [
    "def CGM(A, b, x0, accuracy=0.00001):\n",
    "    ## From https://en.wikipedia.org/wiki/Conjugate_gradient_method#The_resulting_algorithm\n",
    "\n",
    "    \"\"\" Utilises the Conjugate Gradient Method to obtain the minimum point\n",
    "    on a 2d-surface\n",
    "    \n",
    "    IN:  A  := numpy array, positive-definite n x n array\n",
    "         b  := numpy array, scalar vector n x 1 array\n",
    "         x0 := numpy array, initial guess vector n x 1 array\n",
    "         accuracy := float, to what degree of accuracy should the result be\n",
    "    \n",
    "    OUT: xpk1 := numpy array, position of minimum of 2d surface, n x 1 array\n",
    "    \n",
    "    \"\"\"\n",
    "    \n",
    "    rkp1 = b - A @ x0 # = r0\n",
    "    pkp1 = rkp1\n",
    "    xkp1 = x0\n",
    "    \n",
    "    x,y = [x0[0][0]], [x0[1][0]]\n",
    "\n",
    "    numiter = 0\n",
    "\n",
    "    while np.all(np.abs(rkp1) < accuracy) != True and numiter < 1000:\n",
    "\n",
    "        numiter += 1\n",
    "        alphak = alph(rkp1,pkp1,A)\n",
    "\n",
    "        xkp1 = xkp1 + alphak * pkp1\n",
    "        rk = rkp1\n",
    "        rkp1 = rkp1 - alphak * A @ pkp1\n",
    "\n",
    "        betak = bet(rk,rkp1)\n",
    "\n",
    "        pkp1 = rkp1 + betak * pkp1\n",
    "\n",
    "        x.append(xkp1[0][0])\n",
    "        \n",
    "        y.append(xkp1[1][0])\n",
    "        \n",
    "    return xkp1, (x,y)"
   ]
  },
  {
   "cell_type": "code",
   "execution_count": 9,
   "id": "8555cb9e-aa7f-4d9d-8e25-8bd9322e5155",
   "metadata": {},
   "outputs": [
    {
     "name": "stdout",
     "output_type": "stream",
     "text": [
      "[[ 2.]\n",
      " [-2.]] ([-2, 0.08000000000000007, 2.0], [-2, -0.6133333333333333, -2.0])\n"
     ]
    }
   ],
   "source": [
    "## Using values from\n",
    "##  https://www.cs.cmu.edu/~quake-papers/painless-conjugate-gradient.pdf\n",
    "## Expected outcome; xkp1 = [[2],[-2]]\n",
    "\n",
    "A = np.array([[3,2],[2,6]])\n",
    "b = np.array([[2],[-8]])\n",
    "\n",
    "x0 = np.array([[-2],[-2]])\n",
    "\n",
    "xkp1 = CGM(A, b, x0)\n",
    "\n",
    "print(xkp1[0], xkp1[1])"
   ]
  },
  {
   "cell_type": "markdown",
   "id": "247a14fe-fad7-47bb-a7a9-a663543e2dd6",
   "metadata": {},
   "source": [
    "Would be nice to add a contour plot but I can't figure out how it works"
   ]
  }
 ],
 "metadata": {
  "kernelspec": {
   "display_name": "Python 3",
   "language": "python",
   "name": "python3"
  },
  "language_info": {
   "codemirror_mode": {
    "name": "ipython",
    "version": 3
   },
   "file_extension": ".py",
   "mimetype": "text/x-python",
   "name": "python",
   "nbconvert_exporter": "python",
   "pygments_lexer": "ipython3",
<<<<<<< HEAD
   "version": "3.9.7"
=======
   "version": "3.8.10"
>>>>>>> b615a1605d6abc46fea3531e26da88882dbc1362
  }
 },
 "nbformat": 4,
 "nbformat_minor": 5
}
